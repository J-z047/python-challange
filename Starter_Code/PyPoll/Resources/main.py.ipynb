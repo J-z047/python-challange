{
 "cells": [
  {
   "cell_type": "code",
   "execution_count": null,
   "metadata": {},
   "outputs": [],
   "source": [
    "#import files from folder\n",
    "\n",
    "import csv\n",
    "import os"
   ]
  },
  {
   "cell_type": "code",
   "execution_count": null,
   "metadata": {},
   "outputs": [],
   "source": [
    "\n",
    "\n",
    "# path components\n",
    "directory = 'Resources'\n",
    "filename = 'election_data.csv'\n",
    "\n",
    "# Join the directory and filename using os.path.join\n",
    "csvpath = os.path.join(directory, filename)\n",
    "    # If you get an error use alternative \n",
    "            # csvpath = r\" insert the csv location\"\n",
    "\n",
    "outpath = \"Analysis\\output.txt\"\n",
    "\n",
    "# Use csvpath in your code\n",
    "\n",
    "with open(csvpath) as csvfile:\n",
    "    csvreader = csv.reader(csvfile, delimiter=\",\")\n",
    "    csv_header = next(csvreader)"
   ]
  },
  {
   "cell_type": "code",
   "execution_count": 1,
   "metadata": {},
   "outputs": [],
   "source": [
    "\n",
    "\n",
    "with open(csvpath, 'r') as csvfile:\n",
    "    csvreader = csv.reader(csvfile)\n",
    "    csv_header = next(csvreader)\n",
    "\n",
    "    # Define variables\n",
    "    total_votes = 0\n",
    "    initial_participant_one = \" \"\n",
    "    participant_one = \" \"\n",
    "    initial_participant_two = \" \"\n",
    "    participant_two = \" \"\n",
    "    initial_participant_three = \" \"\n",
    "    participant_three = \" \"\n",
    "    votes_participant_one = 0\n",
    "    votes_participant_two = 0\n",
    "    votes_participant_three = 0\n",
    "    winner = \" \"\n",
    "\n",
    "\n",
    "    for row in csvreader:\n",
    "        # The total number of votes cast\n",
    "\n",
    "        total_votes += 1\n",
    "\n",
    "        # A complete list of candidates who received votes\n",
    "\n",
    "        \n",
    "        if row[2] != participant_one and row[2] != participant_two and row[2] != participant_three:\n",
    "            if participant_one != initial_participant_one:\n",
    "                if participant_two != initial_participant_two:\n",
    "                    if participant_three != initial_participant_three:\n",
    "                        print(\"There are more than 3 participants\")\n",
    "                    else:\n",
    "                        participant_three = row[2]\n",
    "                else:\n",
    "                    participant_two = row[2]\n",
    "            else:\n",
    "                participant_one = row[2]\n",
    "        \n",
    "        # The total number of votes each candidate won\n",
    "\n",
    "        if row[2] == participant_one:\n",
    "            votes_participant_one += 1\n",
    "        if row[2] == participant_two:\n",
    "            votes_participant_two += 1\n",
    "        if row[2] == participant_three:\n",
    "            votes_participant_three += 1\n"
   ]
  },
  {
   "cell_type": "code",
   "execution_count": 2,
   "metadata": {},
   "outputs": [],
   "source": [
    "# The winner of the election based on popular vote\n",
    "\n",
    "if votes_participant_one > votes_participant_two and votes_participant_one > votes_participant_three:\n",
    "    winner = participant_one\n",
    "elif votes_participant_two > votes_participant_one and votes_participant_two > votes_participant_three:\n",
    "    winner = participant_two\n",
    "else:\n",
    "    winner = participant_three\n"
   ]
  },
  {
   "cell_type": "code",
   "execution_count": 3,
   "metadata": {},
   "outputs": [
    {
     "name": "stdout",
     "output_type": "stream",
     "text": [
      "Election Results\n",
      "----------------------\n",
      "Total Votes: 369711\n",
      "----------------------\n",
      "Charles Casper Stockham: 23.049% (85213)\n",
      "Diana DeGette: 73.812% (272892)\n",
      "Raymon Anthony Doane: 3.139% (11606)\n",
      "----------------------\n",
      "Winner: Diana DeGette\n",
      "----------------------\n"
     ]
    }
   ],
   "source": [
    "# Print text for refrence\n",
    "print(\"Election Results\")\n",
    "print(\"----------------------\")\n",
    "print(\"Total Votes: \" + str(total_votes))\n",
    "print(\"----------------------\")\n",
    "print(participant_one + \": \" + str(round((votes_participant_one/total_votes)*100,3)) + \"% (\" + str(votes_participant_one) + \")\")\n",
    "print(participant_two + \": \" + str(round((votes_participant_two/total_votes)*100,3)) + \"% (\" + str(votes_participant_two) + \")\")\n",
    "print(participant_three + \": \" + str(round((votes_participant_three/total_votes)*100,3)) + \"% (\" + str(votes_participant_three) + \")\")\n",
    "print(\"----------------------\")\n",
    "print(\"Winner: \" + winner)\n",
    "print(\"----------------------\")"
   ]
  },
  {
   "cell_type": "code",
   "execution_count": 5,
   "metadata": {},
   "outputs": [],
   "source": [
    "# Write Text\n",
    "output_path = os.path.join('analysis','output_data.txt')\n",
    "# If you get an error use this alternative\n",
    "    #output_path = 'Insert your path /analysis.txt'\n",
    "\n",
    "with open(output_path, 'w') as txtfile:\n",
    "    txtfile.write(\"Election Results\\n\")\n",
    "    txtfile.write(\"----------------------\\n\")\n",
    "    txtfile.write(\"Total Votes: \" + str(total_votes) + \"\\n\")\n",
    "    txtfile.write(\"----------------------\\n\")\n",
    "    txtfile.write(participant_one + \": \" + str(round((votes_participant_one/total_votes)*100,3)) + \"% (\" + str(votes_participant_one) + \")\\n\")\n",
    "    txtfile.write(participant_two + \": \" + str(round((votes_participant_two/total_votes)*100,3)) + \"% (\" + str(votes_participant_two) + \")\\n\")\n",
    "    txtfile.write(participant_three + \": \" + str(round((votes_participant_three/total_votes)*100,3)) + \"% (\" + str(votes_participant_three) + \")\\n\")\n",
    "    txtfile.write(\"----------------------\\n\")\n",
    "    txtfile.write(\"Winner: \" + winner + \"\\n\")\n",
    "    txtfile.write(\"----------------------\\n\")"
   ]
  }
 ],
 "metadata": {
  "kernelspec": {
   "display_name": "base",
   "language": "python",
   "name": "python3"
  },
  "language_info": {
   "codemirror_mode": {
    "name": "ipython",
    "version": 3
   },
   "file_extension": ".py",
   "mimetype": "text/x-python",
   "name": "python",
   "nbconvert_exporter": "python",
   "pygments_lexer": "ipython3",
   "version": "3.9.13"
  },
  "orig_nbformat": 4
 },
 "nbformat": 4,
 "nbformat_minor": 2
}
