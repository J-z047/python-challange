{
 "cells": [
  {
   "cell_type": "code",
   "execution_count": null,
   "metadata": {},
   "outputs": [],
   "source": [
    "#import files from folder\n",
    "\n",
    "import csv\n",
    "import os"
   ]
  },
  {
   "cell_type": "code",
   "execution_count": null,
   "metadata": {},
   "outputs": [],
   "source": [
    "\n",
    "\n",
    "# path components\n",
    "directory = 'Resources'\n",
    "filename = 'budget_data.csv'\n",
    "\n",
    "# Join the directory and filename using os.path.join\n",
    "csvpath = os.path.join(directory, filename)\n",
    "    # If you get an error use alternative \n",
    "            # csvpath = r\" insert the csv location\"\n",
    "\n",
    "outpath = \"Analysis\\output.txt\"\n",
    "\n",
    "# Use csvpath in your code\n",
    "\n",
    "with open(csvpath) as csvfile:\n",
    "    csvreader = csv.reader(csvfile, delimiter=\",\")\n",
    "    csv_header = next(csvreader)"
   ]
  },
  {
   "cell_type": "code",
   "execution_count": 1,
   "metadata": {},
   "outputs": [],
   "source": [
    "\n",
    "\n",
    "with open(csvpath, 'r') as csvfile:\n",
    "    csvreader = csv.reader(csvfile)\n",
    "    csv_header = next(csvreader)\n",
    "\n",
    "    # Define variables\n",
    "    number_months = 0\n",
    "    total_amount = 0\n",
    "    change_amount = 0\n",
    "    current_amount = 1088983\n",
    "    greatest_increase_month = \"\"\n",
    "    greatest_increase_amount = 0\n",
    "    greatest_decrease_month = \"\"\n",
    "    greatest_decrease_amount = 0\n",
    "\n",
    "    for row in csvreader:\n",
    "        # The total number of months included in the dataset\n",
    "        number_months += 1\n",
    "\n",
    "        # The net total amount of \"Profit/Losses\" over the entire period\n",
    "        total_amount += int(row[1])\n",
    "\n",
    "        # The changes in \"Profit/Losses\" over the entire period, and then the average of those changes\n",
    "        change_amount += (int(row[1]) - current_amount)\n",
    "\n",
    "        # The greatest increase in profits (date and amount) over the entire period\n",
    "        if (int(row[1]) - current_amount) > greatest_increase_amount:\n",
    "            greatest_increase_amount = (int(row[1]) - current_amount)\n",
    "            greatest_increase_month = row[0]\n",
    "\n",
    "        # The greatest decrease in profits (date and amount) over the entire period\n",
    "        if (int(row[1]) - current_amount) < greatest_decrease_amount:\n",
    "            greatest_decrease_amount = (int(row[1]) - current_amount)\n",
    "            greatest_decrease_month = row[0]\n",
    "\n",
    "        # Set current_amount\n",
    "        current_amount = int(row[1])\n",
    "\n"
   ]
  },
  {
   "cell_type": "code",
   "execution_count": 2,
   "metadata": {},
   "outputs": [
    {
     "name": "stdout",
     "output_type": "stream",
     "text": [
      "Financial Analysis\n",
      "---------------------------\n",
      "Total Months: 86\n",
      "Total: $22564198\n",
      "Average Change: $-8311.11\n",
      "Greatest Increase in Profits: Aug-16 ($1862002)\n",
      "Greatest Decrease in Profits: Feb-14 ($-1825558)\n"
     ]
    }
   ],
   "source": [
    "# Print text for refrence\n",
    "print(\"Financial Analysis\")\n",
    "print(\"---------------------------\")\n",
    "print(\"Total Months: \" + str(number_months))\n",
    "print(\"Total: $\" + str(total_amount))\n",
    "print(\"Average Change: $\" + str(round(change_amount / (number_months-1),2)))\n",
    "print(\"Greatest Increase in Profits: \" + greatest_increase_month + \" ($\" + str(greatest_increase_amount) + \")\")\n",
    "print(\"Greatest Decrease in Profits: \" + greatest_decrease_month + \" ($\" + str(greatest_decrease_amount) + \")\")\n"
   ]
  },
  {
   "cell_type": "code",
   "execution_count": 3,
   "metadata": {},
   "outputs": [],
   "source": [
    "# Write Text\n",
    "output_path = os.path.join('analysis','output_data.txt')\n",
    "# If you get an error use this alternative\n",
    "    #output_path = 'Insert your path /analysis.txt'\n",
    "\n",
    "with open(output_path, 'w') as txtfile:\n",
    "    \n",
    "    # Write text\n",
    "    txtfile.write(\"Financial Analysis\\n\")\n",
    "    txtfile.write(\"---------------------------\\n\")\n",
    "    txtfile.write(\"Total Months: \" + str(number_months) + \"\\n\")\n",
    "    txtfile.write(\"Total: $\" + str(total_amount) + \"\\n\")\n",
    "    txtfile.write(\"Average Change: $\" + str(round(change_amount / (number_months - 1), 2)) + \"\\n\")\n",
    "    txtfile.write(\"Greatest Increase in Profits: \" + greatest_increase_month + \" ($\" + str(greatest_increase_amount) + \")\\n\")\n",
    "    txtfile.write(\"Greatest Decrease in Profits: \" + greatest_decrease_month + \" ($\" + str(greatest_decrease_amount) + \")\\n\")\n",
    "\n"
   ]
  }
 ],
 "metadata": {
  "kernelspec": {
   "display_name": "base",
   "language": "python",
   "name": "python3"
  },
  "language_info": {
   "codemirror_mode": {
    "name": "ipython",
    "version": 3
   },
   "file_extension": ".py",
   "mimetype": "text/x-python",
   "name": "python",
   "nbconvert_exporter": "python",
   "pygments_lexer": "ipython3",
   "version": "3.9.13"
  },
  "orig_nbformat": 4
 },
 "nbformat": 4,
 "nbformat_minor": 2
}
